{
 "cells": [
  {
   "cell_type": "markdown",
   "metadata": {},
   "source": [
    "# List Overlap \n",
    "Write a program that returns a list that contains only the elements that are common between the lists (without duplicates). Make sure your program works on two lists of different sizes."
   ]
  },
  {
   "cell_type": "code",
   "execution_count": 1,
   "metadata": {},
   "outputs": [
    {
     "name": "stdout",
     "output_type": "stream",
     "text": [
      "[1, 2, 3, 5, 8, 13]\n"
     ]
    }
   ],
   "source": [
    "a = [1, 1, 2, 3, 5, 8, 13, 21, 34, 55, 89]\n",
    "b = [1, 2, 3, 4, 5, 6, 7, 8, 9, 10, 11, 12, 13]\n",
    "\n",
    "set_of_a = set(a)\n",
    "c = []\n",
    "\n",
    "for num in set_of_a:\n",
    "    if num in b:\n",
    "        c.append(num)\n",
    "\n",
    "print(c)"
   ]
  },
  {
   "cell_type": "markdown",
   "metadata": {},
   "source": [
    "# Rock Paper Scissors\n",
    "\n",
    "Make a two-player Rock-Paper-Scissors game. (Hint: Ask for player plays (using input), compare them, print out a message of congratulations to the winner.)\n",
    "\n",
    "Remember the rules:\n",
    "\n",
    "* Rock beats scissors\n",
    "* Scissors beats paper\n",
    "* Paper beats rock"
   ]
  },
  {
   "cell_type": "code",
   "execution_count": 33,
   "metadata": {},
   "outputs": [
    {
     "name": "stdout",
     "output_type": "stream",
     "text": [
      "Pick from Rock Paper Scissors: rock\n",
      "Pick from Rock Paper Scissors: rock\n",
      "It's a draw.\n"
     ]
    }
   ],
   "source": [
    "p1 = input(\"Pick from Rock Paper Scissors: \").lower()\n",
    "p2 = input(\"Pick from Rock Paper Scissors: \").lower()\n",
    "\n",
    "inputs = [p1,p2]\n",
    "players = [\"Player 1\", \"Player 2\"]\n",
    "\n",
    "if p1 == p2:\n",
    "    print(\"It's a draw.\")\n",
    "\n",
    "if \"rock\" in inputs and \"scissors\" in inputs:\n",
    "    print(f\"{players[inputs.index('rock')]} has won!\")\n",
    "    \n",
    "if \"scissors\" in inputs and \"paper\" in inputs:\n",
    "    print(f\"{players[inputs.index('scissors')]} has won!\")\n",
    "\n",
    "if \"paper\" in inputs and \"rock\" in inputs:\n",
    "    print(f\"{players[inputs.index('paper')]} has won!\")"
   ]
  },
  {
   "cell_type": "markdown",
   "metadata": {},
   "source": [
    "# Palindrome \n",
    "\n",
    "Ask the user for a string and print out whether this string is a palindrome or not. (A palindrome is a string that reads the same forwards and backwards.)"
   ]
  },
  {
   "cell_type": "code",
   "execution_count": 19,
   "metadata": {},
   "outputs": [
    {
     "name": "stdout",
     "output_type": "stream",
     "text": [
      "Enter a string racecar\n",
      "\n",
      "It is a palindrome\n"
     ]
    }
   ],
   "source": [
    "user_input = input(\"Enter a string \")\n",
    "\n",
    "rev_string = user_input[::-1]\n",
    "\n",
    "if (rev_string == user_input):\n",
    "    print(\"\\nIt is a palindrome\")\n",
    "else:\n",
    "    print(\"\\nInvalid palindrome\")"
   ]
  },
  {
   "cell_type": "markdown",
   "metadata": {},
   "source": [
    "# Password Generator\n",
    "Write a password generator in Python. Be creative with how you generate passwords - strong passwords have a mix of lowercase letters, uppercase letters, numbers, and symbols. The passwords should be random.  Ask the user to input how long they want their password to be. "
   ]
  },
  {
   "cell_type": "code",
   "execution_count": 35,
   "metadata": {},
   "outputs": [
    {
     "name": "stdout",
     "output_type": "stream",
     "text": [
      "Enter password length 90\n",
      "4Dntl)N^9RJLZEs6%&aYWoflWk!&Bwc8QmM$xs@peLe(gPgsL#0*0yYv%et!Z1FslbSO&5G3%#3$2G(f2@xETvo&@)\n"
     ]
    }
   ],
   "source": [
    "import random\n",
    "chars = \"abcdefghijklmnopqrstuvwxyz01234567890ABCDEFGHIJKLMNOPQRSTUVWXYZ!@#$%^&*()?\"\n",
    "\n",
    "pw_len = int(input(\"Enter password length \"))\n",
    "\n",
    "pw = \"\"\n",
    "\n",
    "for i in range(pw_len):\n",
    "    num_selected = random.randint(0,len(chars))\n",
    "    \n",
    "    pw = pw + chars[num_selected]\n",
    "    \n",
    "print(pw)"
   ]
  },
  {
   "cell_type": "markdown",
   "metadata": {},
   "source": [
    "# Divisors Solutions\n",
    "\n",
    "Create a program that asks the user for a number and then prints out a list of all the divisors of that number. (If you don’t know what a divisor is, it is a number that divides evenly into another number. For example, 13 is a divisor of 26 because 26 / 13 has no remainder.)"
   ]
  },
  {
   "cell_type": "code",
   "execution_count": 13,
   "metadata": {},
   "outputs": [
    {
     "name": "stdout",
     "output_type": "stream",
     "text": [
      "Enter a number 12\n",
      "[1, 2, 3, 4, 6, 12]\n"
     ]
    }
   ],
   "source": [
    "num = int(input(\"Enter a number \"))\n",
    "\n",
    "div_list = []\n",
    "\n",
    "for i in range(1,num + 1):\n",
    "    \n",
    "    if num % i == 0:\n",
    "        div_list.append(i)\n",
    "        \n",
    "print(div_list)"
   ]
  },
  {
   "cell_type": "markdown",
   "metadata": {},
   "source": [
    "# Missing Character\n",
    "Given a non-empty string and an int n, return a new string where the char at index n has been removed. The value of n will be a valid index of a char in the original string (i.e. n will be in the range 0..len(str)-1 inclusive).\n",
    "\n",
    "```\n",
    "missing_char('kitten', 1) → 'ktten'\n",
    "missing_char('kitten', 0) → 'itten'\n",
    "missing_char('kitten', 4) → 'kittn'\n",
    "\n",
    "```"
   ]
  },
  {
   "cell_type": "code",
   "execution_count": 13,
   "metadata": {},
   "outputs": [
    {
     "data": {
      "text/plain": [
       "'kittn'"
      ]
     },
     "execution_count": 13,
     "metadata": {},
     "output_type": "execute_result"
    }
   ],
   "source": [
    "def missing_char(word, n):\n",
    "    word = list(word)\n",
    "    word.pop(n)\n",
    "    word = ''.join(word)\n",
    "    return word\n",
    "    \n",
    "missing_char('kitten',4)"
   ]
  },
  {
   "cell_type": "markdown",
   "metadata": {},
   "source": [
    "# Centered Average\n",
    "\n",
    "Return the \"centered\" average of an array of ints, which we'll say is the mean average of the values, except ignoring the largest and smallest values in the array. If there are multiple copies of the smallest value, ignore just one copy, and likewise for the largest value.  You may assume that the array is length 3 or more and will never contain negative values. \n",
    "* Round your answer to the nearest whole number.\n",
    "\n",
    "```\n",
    "centered_average([1, 2, 3, 4, 100]) → 3\n",
    "centered_average([1, 1, 5, 5, 10, 8, 7]) → 5\n",
    "```"
   ]
  },
  {
   "cell_type": "code",
   "execution_count": 24,
   "metadata": {},
   "outputs": [
    {
     "data": {
      "text/plain": [
       "54"
      ]
     },
     "execution_count": 24,
     "metadata": {},
     "output_type": "execute_result"
    }
   ],
   "source": [
    "example_list = [100, 100, 50, 75, 50, 25, 25, 25]\n",
    "\n",
    "def centered_average(numbers):\n",
    "    numbers.sort()\n",
    "    numbers.pop(0)\n",
    "    numbers.pop(-1)\n",
    "    return round(sum(numbers)/len(numbers))\n",
    "\n",
    "centered_average(example_list)"
   ]
  },
  {
   "cell_type": "code",
   "execution_count": null,
   "metadata": {},
   "outputs": [],
   "source": []
  }
 ],
 "metadata": {
  "kernelspec": {
   "display_name": "Python 3 (ipykernel)",
   "language": "python",
   "name": "python3"
  },
  "language_info": {
   "codemirror_mode": {
    "name": "ipython",
    "version": 3
   },
   "file_extension": ".py",
   "mimetype": "text/x-python",
   "name": "python",
   "nbconvert_exporter": "python",
   "pygments_lexer": "ipython3",
   "version": "3.10.5"
  }
 },
 "nbformat": 4,
 "nbformat_minor": 4
}
